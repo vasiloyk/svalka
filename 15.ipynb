{
 "cells": [
  {
   "cell_type": "code",
   "execution_count": 31,
   "metadata": {},
   "outputs": [],
   "source": [
    "import pandas as pd\n",
    "import numpy as np"
   ]
  },
  {
   "cell_type": "code",
   "execution_count": 32,
   "metadata": {},
   "outputs": [
    {
     "name": "stdout",
     "output_type": "stream",
     "text": [
      "Число найденных дубликатов: 10\n",
      "Результирующее число записей: 768\n"
     ]
    }
   ],
   "source": [
    "diabetes = pd.read_csv('data/diabetes_data.csv')\n",
    "diabetes.head()\n",
    "diab_df = diabetes.copy()\n",
    "\n",
    "dupl_columns = list(diab_df.columns)\n",
    "#dupl_columns.remove('id')\n",
    "mask = diab_df.duplicated(subset=dupl_columns)\n",
    "diab_duplicates = diab_df[mask]\n",
    "print(f'Число найденных дубликатов: {diab_duplicates.shape[0]}')\n",
    "\n",
    "diab_dedupped = diab_df.drop_duplicates(dupl_columns)\n",
    "print(f'Результирующее число записей: {diab_dedupped.shape[0]}')"
   ]
  },
  {
   "cell_type": "code",
   "execution_count": 33,
   "metadata": {},
   "outputs": [
    {
     "name": "stdout",
     "output_type": "stream",
     "text": [
      "Gender: 100.0% одинаковых значений\n"
     ]
    }
   ],
   "source": [
    "#список неинформативных признаков\n",
    "low_information_cols = [] \n",
    "\n",
    "#цикл по всем столбцам\n",
    "for col in diab_dedupped.columns:\n",
    "    #наибольшая относительная частота в признаке\n",
    "    top_freq = diab_dedupped[col].value_counts(normalize=True).max()\n",
    "    #доля уникальных значений от размера признака\n",
    "    nunique_ratio = diab_dedupped[col].nunique() / diab_dedupped[col].count()\n",
    "    # сравниваем наибольшую частоту с порогом\n",
    "    if top_freq > 0.95:\n",
    "        low_information_cols.append(col)\n",
    "        print(f'{col}: {round(top_freq*100, 2)}% одинаковых значений')\n",
    "    # сравниваем долю уникальных значений с порогом\n",
    "    if nunique_ratio > 0.95:\n",
    "        low_information_cols.append(col)\n",
    "        print(f'{col}: {round(nunique_ratio*100, 2)}% уникальных значений')"
   ]
  },
  {
   "cell_type": "code",
   "execution_count": 34,
   "metadata": {},
   "outputs": [
    {
     "name": "stdout",
     "output_type": "stream",
     "text": [
      "Результирующее число признаков: 9\n",
      "     Pregnancies  Glucose  BloodPressure  SkinThickness  Insulin   BMI   \n",
      "0              6       98             58             33      190  34.0  \\\n",
      "1              2      112             75             32        0  35.7   \n",
      "2              2      108             64              0        0  30.8   \n",
      "3              8      107             80              0        0  24.6   \n",
      "4              7      136             90              0        0  29.9   \n",
      "..           ...      ...            ...            ...      ...   ...   \n",
      "763            5      139             64             35      140  28.6   \n",
      "764            1       96            122              0        0  22.4   \n",
      "765           10      101             86             37        0  45.6   \n",
      "766            0      141              0              0        0  42.4   \n",
      "767            0      125             96              0        0  22.5   \n",
      "\n",
      "     DiabetesPedigreeFunction  Age  Outcome  \n",
      "0                       0.430   43        0  \n",
      "1                       0.148   21        0  \n",
      "2                       0.158   21        0  \n",
      "3                       0.856   34        0  \n",
      "4                       0.210   50        0  \n",
      "..                        ...  ...      ...  \n",
      "763                     0.411   26        0  \n",
      "764                     0.207   27        0  \n",
      "765                     1.136   38        1  \n",
      "766                     0.205   29        1  \n",
      "767                     0.262   21        0  \n",
      "\n",
      "[768 rows x 9 columns]\n"
     ]
    }
   ],
   "source": [
    "information_diab_dedupped = diab_dedupped.drop(low_information_cols, axis=1)\n",
    "print(f'Результирующее число признаков: {information_diab_dedupped.shape[1]}')\n",
    "print(information_diab_dedupped)"
   ]
  },
  {
   "cell_type": "code",
   "execution_count": 35,
   "metadata": {},
   "outputs": [
    {
     "name": "stdout",
     "output_type": "stream",
     "text": [
      "     Pregnancies  Glucose  BloodPressure  SkinThickness  Insulin   BMI   \n",
      "0              6     98.0           58.0           33.0    190.0  34.0  \\\n",
      "1              2    112.0           75.0           32.0      NaN  35.7   \n",
      "2              2    108.0           64.0            NaN      NaN  30.8   \n",
      "3              8    107.0           80.0            NaN      NaN  24.6   \n",
      "4              7    136.0           90.0            NaN      NaN  29.9   \n",
      "..           ...      ...            ...            ...      ...   ...   \n",
      "763            5    139.0           64.0           35.0    140.0  28.6   \n",
      "764            1     96.0          122.0            NaN      NaN  22.4   \n",
      "765           10    101.0           86.0           37.0      NaN  45.6   \n",
      "766            0    141.0            NaN            NaN      NaN  42.4   \n",
      "767            0    125.0           96.0            NaN      NaN  22.5   \n",
      "\n",
      "     DiabetesPedigreeFunction  Age  Outcome  \n",
      "0                       0.430   43        0  \n",
      "1                       0.148   21        0  \n",
      "2                       0.158   21        0  \n",
      "3                       0.856   34        0  \n",
      "4                       0.210   50        0  \n",
      "..                        ...  ...      ...  \n",
      "763                     0.411   26        0  \n",
      "764                     0.207   27        0  \n",
      "765                     1.136   38        1  \n",
      "766                     0.205   29        1  \n",
      "767                     0.262   21        0  \n",
      "\n",
      "[768 rows x 9 columns]\n"
     ]
    }
   ],
   "source": [
    "def IsNullValue(val):\n",
    "    if val==0:\n",
    "        return np.nan\n",
    "    else:\n",
    "        return val\n",
    "    \n",
    "    \n",
    "#for col in information_diab_dedupped.columns:\n",
    "    \n",
    "#    if col == 'Outcome':\n",
    "#        print(col)\n",
    "#        continue\n",
    "information_diab_dedupped['Glucose'] = information_diab_dedupped['Glucose'].apply(IsNullValue)\n",
    "information_diab_dedupped['BloodPressure'] = information_diab_dedupped['BloodPressure'].apply(IsNullValue) \n",
    "information_diab_dedupped['SkinThickness'] = information_diab_dedupped['SkinThickness'].apply(IsNullValue)\n",
    "information_diab_dedupped['Insulin'] = information_diab_dedupped['Insulin'].apply(IsNullValue)    \n",
    "information_diab_dedupped['BMI'] = information_diab_dedupped['BMI'].apply(IsNullValue)  \n",
    "#print(information_diab_dedupped['Insulin'].isnull().value_counts(normalize=True))    \n",
    "print(information_diab_dedupped)\n"
   ]
  },
  {
   "cell_type": "code",
   "execution_count": 37,
   "metadata": {},
   "outputs": [
    {
     "name": "stdout",
     "output_type": "stream",
     "text": [
      "Insulin          48.697917\n",
      "SkinThickness    29.557292\n",
      "BloodPressure     4.557292\n",
      "BMI               1.432292\n",
      "Glucose           0.651042\n",
      "dtype: float64\n",
      "8\n",
      "Pregnancies                 0.000000\n",
      "Glucose                     0.006510\n",
      "BloodPressure               0.045573\n",
      "SkinThickness               0.295573\n",
      "BMI                         0.014323\n",
      "DiabetesPedigreeFunction    0.000000\n",
      "Age                         0.000000\n",
      "Outcome                     0.000000\n",
      "dtype: float64\n"
     ]
    }
   ],
   "source": [
    "cols_null_percent = information_diab_dedupped.isnull().mean() * 100\n",
    "cols_with_null = cols_null_percent[cols_null_percent>0].sort_values(ascending=False)\n",
    "print(cols_with_null)\n",
    "#information_diab_dedupped.drop('Outcome',axis=1)\n",
    "\n",
    "\n",
    "#print(thresh, information_diab_dedupped.shape[0])\n",
    "\n",
    "drop_data = information_diab_dedupped.copy()\n",
    "thresh = drop_data.shape[0]*0.7\n",
    "drop_data = drop_data.dropna(thresh=thresh,axis=1)\n",
    "print(drop_data.shape[1])\n",
    "\n",
    "print(drop_data.isnull().mean())"
   ]
  },
  {
   "cell_type": "code",
   "execution_count": 38,
   "metadata": {},
   "outputs": [
    {
     "name": "stdout",
     "output_type": "stream",
     "text": [
      "761\n"
     ]
    }
   ],
   "source": [
    "m = drop_data.shape[1]\n",
    "drop_data = drop_data.dropna(thresh=m-2,axis=0)\n",
    "print(drop_data.shape[0])"
   ]
  },
  {
   "cell_type": "code",
   "execution_count": null,
   "metadata": {},
   "outputs": [],
   "source": []
  }
 ],
 "metadata": {
  "kernelspec": {
   "display_name": "Python 3",
   "language": "python",
   "name": "python3"
  },
  "language_info": {
   "codemirror_mode": {
    "name": "ipython",
    "version": 3
   },
   "file_extension": ".py",
   "mimetype": "text/x-python",
   "name": "python",
   "nbconvert_exporter": "python",
   "pygments_lexer": "ipython3",
   "version": "3.9.10"
  },
  "orig_nbformat": 4
 },
 "nbformat": 4,
 "nbformat_minor": 2
}
