{
 "cells": [
  {
   "cell_type": "code",
   "execution_count": 6,
   "metadata": {},
   "outputs": [
    {
     "ename": "TypeError",
     "evalue": "'int' object is not callable",
     "output_type": "error",
     "traceback": [
      "\u001b[1;31m---------------------------------------------------------------------------\u001b[0m",
      "\u001b[1;31mTypeError\u001b[0m                                 Traceback (most recent call last)",
      "Cell \u001b[1;32mIn[6], line 3\u001b[0m\n\u001b[0;32m      1\u001b[0m \u001b[39mimport\u001b[39;00m \u001b[39mgame_v2\u001b[39;00m\n\u001b[0;32m      2\u001b[0m \u001b[39mfrom\u001b[39;00m \u001b[39mgame_v2\u001b[39;00m \u001b[39mimport\u001b[39;00m score_game, random_predict\n\u001b[1;32m----> 3\u001b[0m \u001b[39mprint\u001b[39m(score_game(random_predict(\u001b[39m97\u001b[39;49m)))\n",
      "File \u001b[1;32mc:\\Users\\midadmin\\Downloads\\IDE\\game_v2.py:39\u001b[0m, in \u001b[0;36mscore_game\u001b[1;34m(random_predict)\u001b[0m\n\u001b[0;32m     34\u001b[0m \u001b[39mdef\u001b[39;00m \u001b[39mscore_game\u001b[39m(random_predict) \u001b[39m-\u001b[39m\u001b[39m>\u001b[39m \u001b[39mint\u001b[39m:\n\u001b[0;32m     35\u001b[0m \u001b[39m    \u001b[39m\u001b[39m\"\"\"За какое количество попыток в среднем из 1000 подходов угадывает наш алгоритм\u001b[39;00m\n\u001b[0;32m     36\u001b[0m \n\u001b[0;32m     37\u001b[0m \u001b[39m    Args:\u001b[39;00m\n\u001b[0;32m     38\u001b[0m \u001b[39m        random_predict ([type]): функция угадывания\u001b[39;00m\n\u001b[1;32m---> 39\u001b[0m \n\u001b[0;32m     40\u001b[0m \u001b[39m    Returns:\u001b[39;00m\n\u001b[0;32m     41\u001b[0m \u001b[39m        int: среднее количество попыток\u001b[39;00m\n\u001b[0;32m     42\u001b[0m \u001b[39m    \"\"\"\u001b[39;00m\n\u001b[0;32m     44\u001b[0m     count_ls \u001b[39m=\u001b[39m [] \u001b[39m# список для сохранения количества попыток\u001b[39;00m\n\u001b[0;32m     45\u001b[0m     np\u001b[39m.\u001b[39mrandom\u001b[39m.\u001b[39mseed(\u001b[39m1\u001b[39m) \u001b[39m# фиксируем сид для воспроизводимости\u001b[39;00m\n",
      "\u001b[1;31mTypeError\u001b[0m: 'int' object is not callable"
     ]
    }
   ],
   "source": [
    "import game_v2\n",
    "from game_v2 import score_game, random_predict\n",
    "print(score_game(random_predict(97)))"
   ]
  },
  {
   "attachments": {},
   "cell_type": "markdown",
   "metadata": {},
   "source": [
    "# Игра угадай число\n",
    "## Угадываем рандомно:"
   ]
  }
 ],
 "metadata": {
  "kernelspec": {
   "display_name": "Python 3",
   "language": "python",
   "name": "python3"
  },
  "language_info": {
   "codemirror_mode": {
    "name": "ipython",
    "version": 3
   },
   "file_extension": ".py",
   "mimetype": "text/x-python",
   "name": "python",
   "nbconvert_exporter": "python",
   "pygments_lexer": "ipython3",
   "version": "3.9.10"
  },
  "orig_nbformat": 4
 },
 "nbformat": 4,
 "nbformat_minor": 2
}
