{
 "cells": [
  {
   "cell_type": "code",
   "execution_count": 1,
   "metadata": {},
   "outputs": [
    {
     "ename": "KeyboardInterrupt",
     "evalue": "",
     "output_type": "error",
     "traceback": [
      "\u001b[1;31m---------------------------------------------------------------------------\u001b[0m",
      "\u001b[1;31mKeyboardInterrupt\u001b[0m                         Traceback (most recent call last)",
      "Cell \u001b[1;32mIn[1], line 3\u001b[0m\n\u001b[0;32m      1\u001b[0m \u001b[39mimport\u001b[39;00m \u001b[39mgame_v2\u001b[39;00m\n\u001b[0;32m      2\u001b[0m \u001b[39mfrom\u001b[39;00m \u001b[39mgame_v2\u001b[39;00m \u001b[39mimport\u001b[39;00m score_game, random_predict\n\u001b[1;32m----> 3\u001b[0m \u001b[39mprint\u001b[39m(score_game(random_predict))\n",
      "File \u001b[1;32mc:\\Users\\midadmin\\Downloads\\IDE\\game_v2.py:46\u001b[0m, in \u001b[0;36mscore_game\u001b[1;34m(random_predict)\u001b[0m\n\u001b[0;32m     43\u001b[0m random_array \u001b[39m=\u001b[39m np\u001b[39m.\u001b[39mrandom\u001b[39m.\u001b[39mrandint(\u001b[39m1\u001b[39m, \u001b[39m101\u001b[39m, size\u001b[39m=\u001b[39m(\u001b[39m1000\u001b[39m)) \u001b[39m# загадали список чисел\u001b[39;00m\n\u001b[0;32m     45\u001b[0m \u001b[39mfor\u001b[39;00m number \u001b[39min\u001b[39;00m random_array:\n\u001b[1;32m---> 46\u001b[0m     count_ls\u001b[39m.\u001b[39mappend(random_predict(number))\n\u001b[0;32m     48\u001b[0m score \u001b[39m=\u001b[39m \u001b[39mint\u001b[39m(np\u001b[39m.\u001b[39mmean(count_ls)) \u001b[39m# находим среднее количество попыток\u001b[39;00m\n\u001b[0;32m     50\u001b[0m \u001b[39mprint\u001b[39m(\u001b[39mf\u001b[39m\u001b[39m'\u001b[39m\u001b[39mВаш алгоритм угадывает число в среднем за: \u001b[39m\u001b[39m{\u001b[39;00mscore\u001b[39m}\u001b[39;00m\u001b[39m попыток\u001b[39m\u001b[39m'\u001b[39m)\n",
      "File \u001b[1;32mc:\\Users\\midadmin\\Downloads\\IDE\\game_v2.py:26\u001b[0m, in \u001b[0;36mrandom_predict\u001b[1;34m(number)\u001b[0m\n\u001b[0;32m     23\u001b[0m \u001b[39melif\u001b[39;00m number \u001b[39m<\u001b[39m predict:\n\u001b[0;32m     24\u001b[0m     b \u001b[39m=\u001b[39m predict\n\u001b[1;32m---> 26\u001b[0m predict \u001b[39m=\u001b[39m a \u001b[39m+\u001b[39;49m b\n\u001b[0;32m     27\u001b[0m \u001b[39m#print(\"a =\",a,\"b =\",b,\"predict =\",predict)\u001b[39;00m\n\u001b[0;32m     28\u001b[0m predict \u001b[39m/\u001b[39m\u001b[39m/\u001b[39m\u001b[39m=\u001b[39m \u001b[39m2\u001b[39m \n",
      "\u001b[1;31mKeyboardInterrupt\u001b[0m: "
     ]
    }
   ],
   "source": [
    "import game_v2\n",
    "from game_v2 import score_game, random_predict\n",
    "print(score_game(random_predict))"
   ]
  },
  {
   "attachments": {},
   "cell_type": "markdown",
   "metadata": {},
   "source": [
    "# Игра угадай число\n",
    "## Угадываем рандомно:"
   ]
  }
 ],
 "metadata": {
  "kernelspec": {
   "display_name": "Python 3",
   "language": "python",
   "name": "python3"
  },
  "language_info": {
   "codemirror_mode": {
    "name": "ipython",
    "version": 3
   },
   "file_extension": ".py",
   "mimetype": "text/x-python",
   "name": "python",
   "nbconvert_exporter": "python",
   "pygments_lexer": "ipython3",
   "version": "3.9.10"
  },
  "orig_nbformat": 4
 },
 "nbformat": 4,
 "nbformat_minor": 2
}
